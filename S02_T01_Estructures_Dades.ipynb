{
 "cells": [
  {
   "cell_type": "markdown",
   "id": "10c41444",
   "metadata": {},
   "source": [
    "# S02_T01_Estructures_de_Dades\n",
    "\n",
    "### Ex1: Crear una llista que agrupi els mesos de l'any en trimestres (1T: Gener, Febrer i Març, 2T: Abril, Maig, Juny...), és a dir, una llista amb 4 llistes dins."
   ]
  },
  {
   "cell_type": "code",
   "execution_count": 3,
   "id": "6348b07c",
   "metadata": {
    "ExecuteTime": {
     "end_time": "2022-02-16T12:12:58.265453Z",
     "start_time": "2022-02-16T12:12:58.255451Z"
    }
   },
   "outputs": [],
   "source": [
    "months_year_list=[[\"Gener\",\"Febrer\", \"Març\"],[\"Abril\",\"Maig\",\"Juny\"],[\"Juliol\",\"Agost\",\"Setembre\"],[\"Octubre\",\"Novembre\",\"Desembre\"]]"
   ]
  },
  {
   "cell_type": "code",
   "execution_count": 4,
   "id": "f461fb0d",
   "metadata": {
    "ExecuteTime": {
     "end_time": "2022-02-16T12:14:51.511598Z",
     "start_time": "2022-02-16T12:14:51.503623Z"
    }
   },
   "outputs": [
    {
     "name": "stdout",
     "output_type": "stream",
     "text": [
      "[['Gener', 'Febrer', 'Març'], ['Abril', 'Maig', 'Juny'], ['Juliol', 'Agost', 'Setembre'], ['Octubre', 'Novembre', 'Desembre']]\n"
     ]
    }
   ],
   "source": [
    "print(months_year_list)"
   ]
  },
  {
   "cell_type": "markdown",
   "id": "b900ec28",
   "metadata": {},
   "source": [
    "### Ex2: Crear un codi que et permeti accedir a: \n",
    "+ 2n mes del 1r trimestre\n",
    "+ mesos del 1r trimestre\n",
    "+ Setembre i Octubre"
   ]
  },
  {
   "cell_type": "code",
   "execution_count": 5,
   "id": "a945322a",
   "metadata": {
    "ExecuteTime": {
     "end_time": "2022-02-16T12:20:45.450183Z",
     "start_time": "2022-02-16T12:20:45.445198Z"
    }
   },
   "outputs": [
    {
     "name": "stdout",
     "output_type": "stream",
     "text": [
      "Febrer\n"
     ]
    }
   ],
   "source": [
    "valor_2month_1T= months_year_list[0][1]\n",
    "print(valor_2month_1T)"
   ]
  },
  {
   "cell_type": "code",
   "execution_count": 6,
   "id": "26df3bfc",
   "metadata": {
    "ExecuteTime": {
     "end_time": "2022-02-16T12:21:47.454458Z",
     "start_time": "2022-02-16T12:21:47.440497Z"
    }
   },
   "outputs": [
    {
     "name": "stdout",
     "output_type": "stream",
     "text": [
      "['Gener', 'Febrer', 'Març']\n"
     ]
    }
   ],
   "source": [
    "valor_1T = months_year_list[0]\n",
    "print(valor_1T)"
   ]
  },
  {
   "cell_type": "code",
   "execution_count": 15,
   "id": "ccd54356",
   "metadata": {
    "ExecuteTime": {
     "end_time": "2022-02-16T12:29:16.377775Z",
     "start_time": "2022-02-16T12:29:16.358853Z"
    }
   },
   "outputs": [
    {
     "name": "stdout",
     "output_type": "stream",
     "text": [
      "Setembre,Octubre\n"
     ]
    }
   ],
   "source": [
    "print(months_year_list[2][-1] + \",\" + months_year_list[3][0]) "
   ]
  },
  {
   "cell_type": "markdown",
   "id": "20edf739",
   "metadata": {},
   "source": [
    "### Ex3: Crear una llista de nombres desordenats i respondre a les següents preguntes:\n",
    "+ quants nombres hi ha?\n",
    "+ quantes vegades apareix el nombre 3?\n",
    "+ quantes vegades apareixen el nombre 3 i 4?\n",
    "+ quin és el nombre més gran?\n",
    "+ quins són els 3 nombres més petits?\n",
    "+ quin és el rang de la llista?"
   ]
  },
  {
   "cell_type": "code",
   "execution_count": 21,
   "id": "8170e0ad",
   "metadata": {
    "ExecuteTime": {
     "end_time": "2022-02-16T12:40:43.453363Z",
     "start_time": "2022-02-16T12:40:43.447380Z"
    }
   },
   "outputs": [
    {
     "name": "stdout",
     "output_type": "stream",
     "text": [
      "14\n"
     ]
    }
   ],
   "source": [
    "nums_list = [5, 0, 7, 3, 6, 4, 33, 0, 2, 4, 8, 52, 32, 48]\n",
    "print(len(nums_list))"
   ]
  },
  {
   "cell_type": "code",
   "execution_count": 29,
   "id": "325a5738",
   "metadata": {
    "ExecuteTime": {
     "end_time": "2022-02-16T12:54:13.734734Z",
     "start_time": "2022-02-16T12:54:13.726722Z"
    }
   },
   "outputs": [
    {
     "name": "stdout",
     "output_type": "stream",
     "text": [
      "1\n"
     ]
    }
   ],
   "source": [
    "num_3=0\n",
    "for x in nums_list:\n",
    "    if x==3:\n",
    "        num_3=num_3 + 1\n",
    "print(num_3)\n",
    "        "
   ]
  },
  {
   "cell_type": "code",
   "execution_count": 31,
   "id": "7e61c820",
   "metadata": {
    "ExecuteTime": {
     "end_time": "2022-02-16T13:04:44.705899Z",
     "start_time": "2022-02-16T13:04:44.678943Z"
    }
   },
   "outputs": [
    {
     "data": {
      "text/plain": [
       "1"
      ]
     },
     "execution_count": 31,
     "metadata": {},
     "output_type": "execute_result"
    }
   ],
   "source": [
    "nums_list.count(3)"
   ]
  },
  {
   "cell_type": "code",
   "execution_count": 34,
   "id": "a5ec3dfb",
   "metadata": {
    "ExecuteTime": {
     "end_time": "2022-02-16T13:06:25.473972Z",
     "start_time": "2022-02-16T13:06:25.455051Z"
    }
   },
   "outputs": [
    {
     "name": "stdout",
     "output_type": "stream",
     "text": [
      "3\n"
     ]
    }
   ],
   "source": [
    "num_3_4=0\n",
    "for x in nums_list:\n",
    "    if (x==3 or x==4):\n",
    "        num_3_4=num_3_4 + 1\n",
    "print(num_3_4)\n",
    "        "
   ]
  },
  {
   "cell_type": "code",
   "execution_count": 40,
   "id": "9e77c6e2",
   "metadata": {
    "ExecuteTime": {
     "end_time": "2022-02-16T13:22:18.839478Z",
     "start_time": "2022-02-16T13:22:18.822522Z"
    }
   },
   "outputs": [
    {
     "name": "stdout",
     "output_type": "stream",
     "text": [
      "52\n"
     ]
    }
   ],
   "source": [
    "valor_major = max(nums_list)\n",
    "print(valor_major)\n",
    "        "
   ]
  },
  {
   "cell_type": "code",
   "execution_count": 47,
   "id": "ed638d5f",
   "metadata": {
    "ExecuteTime": {
     "end_time": "2022-02-16T13:32:07.772612Z",
     "start_time": "2022-02-16T13:32:07.759617Z"
    }
   },
   "outputs": [
    {
     "name": "stdout",
     "output_type": "stream",
     "text": [
      "[0, 0, 2, 3, 4, 4, 5, 6, 7, 8, 32, 33, 48, 52]\n"
     ]
    }
   ],
   "source": [
    "nums_list.sort()\n",
    "print(nums_list)\n"
   ]
  },
  {
   "cell_type": "code",
   "execution_count": 141,
   "id": "7e583a05",
   "metadata": {
    "ExecuteTime": {
     "end_time": "2022-02-17T11:02:32.976807Z",
     "start_time": "2022-02-17T11:02:32.963869Z"
    }
   },
   "outputs": [
    {
     "name": "stdout",
     "output_type": "stream",
     "text": [
      "0\n"
     ]
    }
   ],
   "source": [
    "print(min(nums_list))"
   ]
  },
  {
   "cell_type": "code",
   "execution_count": 49,
   "id": "39ddbba1",
   "metadata": {
    "ExecuteTime": {
     "end_time": "2022-02-16T13:33:28.351523Z",
     "start_time": "2022-02-16T13:33:28.334595Z"
    }
   },
   "outputs": [
    {
     "name": "stdout",
     "output_type": "stream",
     "text": [
      "[0, 0, 2]\n"
     ]
    }
   ],
   "source": [
    "print(nums_list[0:3])"
   ]
  },
  {
   "cell_type": "code",
   "execution_count": 58,
   "id": "fc587ba2",
   "metadata": {
    "ExecuteTime": {
     "end_time": "2022-02-16T13:52:04.003358Z",
     "start_time": "2022-02-16T13:52:03.998368Z"
    }
   },
   "outputs": [],
   "source": [
    "range_list= nums_list[0:14]"
   ]
  },
  {
   "cell_type": "code",
   "execution_count": 59,
   "id": "568a4a93",
   "metadata": {
    "ExecuteTime": {
     "end_time": "2022-02-16T13:52:20.802380Z",
     "start_time": "2022-02-16T13:52:20.790414Z"
    }
   },
   "outputs": [
    {
     "name": "stdout",
     "output_type": "stream",
     "text": [
      "[0, 0, 2, 3, 4, 4, 5, 6, 7, 8, 32, 33, 48, 52]\n"
     ]
    }
   ],
   "source": [
    "print(range_list)"
   ]
  },
  {
   "cell_type": "markdown",
   "id": "487768f8",
   "metadata": {},
   "source": [
    "### Ex4: Crear un diccionari de la següent forma i respondre a les preguntes:\n",
    "\n",
    "compra = {\"Pomes\":{\"Qty\":5, \"€\":0.42},\"Peres\":{\"Qty\":3, \"€\":0.66}}\n",
    "\n",
    "+ Afegeix alguna fruita més\n",
    "+ quant han costat les peres en total?\n",
    "+ quantes fruites hem comprat en total?\n",
    "+ quina és la fruita més cara?"
   ]
  },
  {
   "cell_type": "code",
   "execution_count": 62,
   "id": "35d4febd",
   "metadata": {
    "ExecuteTime": {
     "end_time": "2022-02-16T14:25:20.702693Z",
     "start_time": "2022-02-16T14:25:20.685735Z"
    }
   },
   "outputs": [
    {
     "name": "stdout",
     "output_type": "stream",
     "text": [
      "{'Pomes': {'Qty': 5, '€': 0.42}, 'Peres': {'Qty': 3, '€': 0.66}}\n"
     ]
    }
   ],
   "source": [
    "compra = {\"Pomes\":{\"Qty\":5, \"€\":0.42},\"Peres\":{\"Qty\":3, \"€\":0.66}}\n",
    "print(compra)"
   ]
  },
  {
   "cell_type": "code",
   "execution_count": 67,
   "id": "a2904fbf",
   "metadata": {
    "ExecuteTime": {
     "end_time": "2022-02-16T14:45:24.494238Z",
     "start_time": "2022-02-16T14:45:24.480273Z"
    }
   },
   "outputs": [
    {
     "name": "stdout",
     "output_type": "stream",
     "text": [
      "{'Pomes': {'Qty': 5, '€': 0.42}, 'Peres': {'Qty': 3, '€': 0.66}, 'Platans': {'Qty': 8, '€': 0.84}}\n"
     ]
    }
   ],
   "source": [
    "compra[\"Platans\"]={\"Qty\":8,\"€\":0.84}\n",
    "print(compra)"
   ]
  },
  {
   "cell_type": "code",
   "execution_count": 99,
   "id": "e1add37a",
   "metadata": {
    "ExecuteTime": {
     "end_time": "2022-02-17T09:39:21.472335Z",
     "start_time": "2022-02-17T09:39:21.460338Z"
    }
   },
   "outputs": [
    {
     "data": {
      "text/plain": [
       "1.98"
      ]
     },
     "execution_count": 99,
     "metadata": {},
     "output_type": "execute_result"
    }
   ],
   "source": [
    "qty_peres = compra.get(\"Peres\").get(\"Qty\")\n",
    "cost_peres = (compra.get(\"Peres\").get(\"€\")) * qty_peres\n",
    "cost_peres"
   ]
  },
  {
   "cell_type": "code",
   "execution_count": 134,
   "id": "82e33bb8",
   "metadata": {
    "ExecuteTime": {
     "end_time": "2022-02-17T10:52:40.104284Z",
     "start_time": "2022-02-17T10:52:40.070025Z"
    }
   },
   "outputs": [
    {
     "name": "stdout",
     "output_type": "stream",
     "text": [
      "16\n"
     ]
    }
   ],
   "source": [
    "sum_fruites= sum(d[\"Qty\"] for d in compra.values() if d)\n",
    "print(sum_fruites)"
   ]
  },
  {
   "cell_type": "code",
   "execution_count": 139,
   "id": "d16c8400",
   "metadata": {
    "ExecuteTime": {
     "end_time": "2022-02-17T10:57:59.697849Z",
     "start_time": "2022-02-17T10:57:59.690867Z"
    }
   },
   "outputs": [
    {
     "name": "stdout",
     "output_type": "stream",
     "text": [
      "16\n"
     ]
    }
   ],
   "source": [
    "sum_fruites2=0\n",
    "#iterating key value pair\n",
    "for key, value in compra.items():abs\n",
    "    if value and \"Qty\" in value.keys():\n",
    "        #adding value of Qty to sum_fruites2\n",
    "        sum_fruites2 += value[\"Qty\"]\n",
    "print(sum_fruites2)"
   ]
  },
  {
   "cell_type": "code",
   "execution_count": 142,
   "id": "78ea01ef",
   "metadata": {
    "ExecuteTime": {
     "end_time": "2022-02-17T11:05:15.592057Z",
     "start_time": "2022-02-17T11:05:15.571114Z"
    }
   },
   "outputs": [
    {
     "name": "stdout",
     "output_type": "stream",
     "text": [
      "0.84\n"
     ]
    }
   ],
   "source": [
    "max_preu= max(d[\"€\"] for d in compra.values() if d)\n",
    "print(max_preu)"
   ]
  },
  {
   "cell_type": "code",
   "execution_count": null,
   "id": "5b387d78",
   "metadata": {},
   "outputs": [],
   "source": []
  }
 ],
 "metadata": {
  "kernelspec": {
   "display_name": "Python 3 (ipykernel)",
   "language": "python",
   "name": "python3"
  },
  "language_info": {
   "codemirror_mode": {
    "name": "ipython",
    "version": 3
   },
   "file_extension": ".py",
   "mimetype": "text/x-python",
   "name": "python",
   "nbconvert_exporter": "python",
   "pygments_lexer": "ipython3",
   "version": "3.9.7"
  },
  "latex_envs": {
   "LaTeX_envs_menu_present": true,
   "autoclose": false,
   "autocomplete": true,
   "bibliofile": "biblio.bib",
   "cite_by": "apalike",
   "current_citInitial": 1,
   "eqLabelWithNumbers": true,
   "eqNumInitial": 1,
   "hotkeys": {
    "equation": "Ctrl-E",
    "itemize": "Ctrl-I"
   },
   "labels_anchors": false,
   "latex_user_defs": false,
   "report_style_numbering": false,
   "user_envs_cfg": false
  }
 },
 "nbformat": 4,
 "nbformat_minor": 5
}
